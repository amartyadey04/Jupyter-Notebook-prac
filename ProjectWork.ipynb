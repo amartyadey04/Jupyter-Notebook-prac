{
  "nbformat": 4,
  "nbformat_minor": 0,
  "metadata": {
    "colab": {
      "provenance": [],
      "authorship_tag": "ABX9TyMfZJkTe/sBzg8RY5SmAxO/",
      "include_colab_link": true
    },
    "kernelspec": {
      "name": "python3",
      "display_name": "Python 3"
    },
    "language_info": {
      "name": "python"
    }
  },
  "cells": [
    {
      "cell_type": "markdown",
      "metadata": {
        "id": "view-in-github",
        "colab_type": "text"
      },
      "source": [
        "<a href=\"https://colab.research.google.com/github/amartyadey04/Jupyter-Notebook-prac/blob/main/ProjectWork.ipynb\" target=\"_parent\"><img src=\"https://colab.research.google.com/assets/colab-badge.svg\" alt=\"Open In Colab\"/></a>"
      ]
    },
    {
      "cell_type": "markdown",
      "source": [
        "#**Fake** **News** **Detection** **Model** **Trial**"
      ],
      "metadata": {
        "id": "IUqYT-yIn58k"
      }
    },
    {
      "cell_type": "code",
      "execution_count": null,
      "metadata": {
        "id": "aZBL-onlCKHv",
        "colab": {
          "base_uri": "https://localhost:8080/",
          "height": 863
        },
        "outputId": "c0c2ffc7-d0b7-4c96-d881-c866ee9ed056"
      },
      "outputs": [
        {
          "output_type": "stream",
          "name": "stdout",
          "text": [
            "Dataset shape: (200, 2)\n"
          ]
        },
        {
          "output_type": "stream",
          "name": "stderr",
          "text": [
            "/usr/local/lib/python3.12/dist-packages/keras/src/layers/core/embedding.py:97: UserWarning: Argument `input_length` is deprecated. Just remove it.\n",
            "  warnings.warn(\n"
          ]
        },
        {
          "output_type": "display_data",
          "data": {
            "text/plain": [
              "\u001b[1mModel: \"sequential\"\u001b[0m\n"
            ],
            "text/html": [
              "<pre style=\"white-space:pre;overflow-x:auto;line-height:normal;font-family:Menlo,'DejaVu Sans Mono',consolas,'Courier New',monospace\"><span style=\"font-weight: bold\">Model: \"sequential\"</span>\n",
              "</pre>\n"
            ]
          },
          "metadata": {}
        },
        {
          "output_type": "display_data",
          "data": {
            "text/plain": [
              "┏━━━━━━━━━━━━━━━━━━━━━━━━━━━━━━━━━┳━━━━━━━━━━━━━━━━━━━━━━━━┳━━━━━━━━━━━━━━━┓\n",
              "┃\u001b[1m \u001b[0m\u001b[1mLayer (type)                   \u001b[0m\u001b[1m \u001b[0m┃\u001b[1m \u001b[0m\u001b[1mOutput Shape          \u001b[0m\u001b[1m \u001b[0m┃\u001b[1m \u001b[0m\u001b[1m      Param #\u001b[0m\u001b[1m \u001b[0m┃\n",
              "┡━━━━━━━━━━━━━━━━━━━━━━━━━━━━━━━━━╇━━━━━━━━━━━━━━━━━━━━━━━━╇━━━━━━━━━━━━━━━┩\n",
              "│ embedding (\u001b[38;5;33mEmbedding\u001b[0m)           │ ?                      │   \u001b[38;5;34m0\u001b[0m (unbuilt) │\n",
              "├─────────────────────────────────┼────────────────────────┼───────────────┤\n",
              "│ dropout (\u001b[38;5;33mDropout\u001b[0m)               │ ?                      │             \u001b[38;5;34m0\u001b[0m │\n",
              "├─────────────────────────────────┼────────────────────────┼───────────────┤\n",
              "│ conv1d (\u001b[38;5;33mConv1D\u001b[0m)                 │ ?                      │   \u001b[38;5;34m0\u001b[0m (unbuilt) │\n",
              "├─────────────────────────────────┼────────────────────────┼───────────────┤\n",
              "│ max_pooling1d (\u001b[38;5;33mMaxPooling1D\u001b[0m)    │ ?                      │             \u001b[38;5;34m0\u001b[0m │\n",
              "├─────────────────────────────────┼────────────────────────┼───────────────┤\n",
              "│ flatten (\u001b[38;5;33mFlatten\u001b[0m)               │ ?                      │   \u001b[38;5;34m0\u001b[0m (unbuilt) │\n",
              "├─────────────────────────────────┼────────────────────────┼───────────────┤\n",
              "│ dense (\u001b[38;5;33mDense\u001b[0m)                   │ ?                      │   \u001b[38;5;34m0\u001b[0m (unbuilt) │\n",
              "└─────────────────────────────────┴────────────────────────┴───────────────┘\n"
            ],
            "text/html": [
              "<pre style=\"white-space:pre;overflow-x:auto;line-height:normal;font-family:Menlo,'DejaVu Sans Mono',consolas,'Courier New',monospace\">┏━━━━━━━━━━━━━━━━━━━━━━━━━━━━━━━━━┳━━━━━━━━━━━━━━━━━━━━━━━━┳━━━━━━━━━━━━━━━┓\n",
              "┃<span style=\"font-weight: bold\"> Layer (type)                    </span>┃<span style=\"font-weight: bold\"> Output Shape           </span>┃<span style=\"font-weight: bold\">       Param # </span>┃\n",
              "┡━━━━━━━━━━━━━━━━━━━━━━━━━━━━━━━━━╇━━━━━━━━━━━━━━━━━━━━━━━━╇━━━━━━━━━━━━━━━┩\n",
              "│ embedding (<span style=\"color: #0087ff; text-decoration-color: #0087ff\">Embedding</span>)           │ ?                      │   <span style=\"color: #00af00; text-decoration-color: #00af00\">0</span> (unbuilt) │\n",
              "├─────────────────────────────────┼────────────────────────┼───────────────┤\n",
              "│ dropout (<span style=\"color: #0087ff; text-decoration-color: #0087ff\">Dropout</span>)               │ ?                      │             <span style=\"color: #00af00; text-decoration-color: #00af00\">0</span> │\n",
              "├─────────────────────────────────┼────────────────────────┼───────────────┤\n",
              "│ conv1d (<span style=\"color: #0087ff; text-decoration-color: #0087ff\">Conv1D</span>)                 │ ?                      │   <span style=\"color: #00af00; text-decoration-color: #00af00\">0</span> (unbuilt) │\n",
              "├─────────────────────────────────┼────────────────────────┼───────────────┤\n",
              "│ max_pooling1d (<span style=\"color: #0087ff; text-decoration-color: #0087ff\">MaxPooling1D</span>)    │ ?                      │             <span style=\"color: #00af00; text-decoration-color: #00af00\">0</span> │\n",
              "├─────────────────────────────────┼────────────────────────┼───────────────┤\n",
              "│ flatten (<span style=\"color: #0087ff; text-decoration-color: #0087ff\">Flatten</span>)               │ ?                      │   <span style=\"color: #00af00; text-decoration-color: #00af00\">0</span> (unbuilt) │\n",
              "├─────────────────────────────────┼────────────────────────┼───────────────┤\n",
              "│ dense (<span style=\"color: #0087ff; text-decoration-color: #0087ff\">Dense</span>)                   │ ?                      │   <span style=\"color: #00af00; text-decoration-color: #00af00\">0</span> (unbuilt) │\n",
              "└─────────────────────────────────┴────────────────────────┴───────────────┘\n",
              "</pre>\n"
            ]
          },
          "metadata": {}
        },
        {
          "output_type": "display_data",
          "data": {
            "text/plain": [
              "\u001b[1m Total params: \u001b[0m\u001b[38;5;34m0\u001b[0m (0.00 B)\n"
            ],
            "text/html": [
              "<pre style=\"white-space:pre;overflow-x:auto;line-height:normal;font-family:Menlo,'DejaVu Sans Mono',consolas,'Courier New',monospace\"><span style=\"font-weight: bold\"> Total params: </span><span style=\"color: #00af00; text-decoration-color: #00af00\">0</span> (0.00 B)\n",
              "</pre>\n"
            ]
          },
          "metadata": {}
        },
        {
          "output_type": "display_data",
          "data": {
            "text/plain": [
              "\u001b[1m Trainable params: \u001b[0m\u001b[38;5;34m0\u001b[0m (0.00 B)\n"
            ],
            "text/html": [
              "<pre style=\"white-space:pre;overflow-x:auto;line-height:normal;font-family:Menlo,'DejaVu Sans Mono',consolas,'Courier New',monospace\"><span style=\"font-weight: bold\"> Trainable params: </span><span style=\"color: #00af00; text-decoration-color: #00af00\">0</span> (0.00 B)\n",
              "</pre>\n"
            ]
          },
          "metadata": {}
        },
        {
          "output_type": "display_data",
          "data": {
            "text/plain": [
              "\u001b[1m Non-trainable params: \u001b[0m\u001b[38;5;34m0\u001b[0m (0.00 B)\n"
            ],
            "text/html": [
              "<pre style=\"white-space:pre;overflow-x:auto;line-height:normal;font-family:Menlo,'DejaVu Sans Mono',consolas,'Courier New',monospace\"><span style=\"font-weight: bold\"> Non-trainable params: </span><span style=\"color: #00af00; text-decoration-color: #00af00\">0</span> (0.00 B)\n",
              "</pre>\n"
            ]
          },
          "metadata": {}
        },
        {
          "output_type": "stream",
          "name": "stdout",
          "text": [
            "Epoch 1/5\n",
            "\u001b[1m8/8\u001b[0m \u001b[32m━━━━━━━━━━━━━━━━━━━━\u001b[0m\u001b[37m\u001b[0m \u001b[1m2s\u001b[0m 53ms/step - accuracy: 0.5035 - loss: 0.6946 - val_accuracy: 0.4062 - val_loss: 0.6976\n",
            "Epoch 2/5\n",
            "\u001b[1m8/8\u001b[0m \u001b[32m━━━━━━━━━━━━━━━━━━━━\u001b[0m\u001b[37m\u001b[0m \u001b[1m0s\u001b[0m 20ms/step - accuracy: 0.5896 - loss: 0.6743 - val_accuracy: 0.3750 - val_loss: 0.6984\n",
            "Epoch 3/5\n",
            "\u001b[1m8/8\u001b[0m \u001b[32m━━━━━━━━━━━━━━━━━━━━\u001b[0m\u001b[37m\u001b[0m \u001b[1m0s\u001b[0m 20ms/step - accuracy: 0.6577 - loss: 0.6526 - val_accuracy: 0.3750 - val_loss: 0.6969\n",
            "Epoch 4/5\n",
            "\u001b[1m8/8\u001b[0m \u001b[32m━━━━━━━━━━━━━━━━━━━━\u001b[0m\u001b[37m\u001b[0m \u001b[1m0s\u001b[0m 22ms/step - accuracy: 0.7324 - loss: 0.6356 - val_accuracy: 0.4688 - val_loss: 0.6920\n",
            "Epoch 5/5\n",
            "\u001b[1m8/8\u001b[0m \u001b[32m━━━━━━━━━━━━━━━━━━━━\u001b[0m\u001b[37m\u001b[0m \u001b[1m0s\u001b[0m 21ms/step - accuracy: 0.8959 - loss: 0.6068 - val_accuracy: 0.4688 - val_loss: 0.6821\n",
            "\u001b[1m2/2\u001b[0m \u001b[32m━━━━━━━━━━━━━━━━━━━━\u001b[0m\u001b[37m\u001b[0m \u001b[1m0s\u001b[0m 75ms/step\n",
            "Accuracy: 0.575\n",
            "Precision: 1.0\n",
            "Recall: 0.15\n",
            "F1: 0.2608695652173913\n",
            "\n",
            "Classification Report:\n",
            "               precision    recall  f1-score   support\n",
            "\n",
            "           0       0.54      1.00      0.70        20\n",
            "           1       1.00      0.15      0.26        20\n",
            "\n",
            "    accuracy                           0.57        40\n",
            "   macro avg       0.77      0.57      0.48        40\n",
            "weighted avg       0.77      0.57      0.48        40\n",
            "\n"
          ]
        }
      ],
      "source": [
        "# ==========================================\n",
        "# OPCNN Fake News Detection - ISOT Tiny Demo\n",
        "# ==========================================\n",
        "\n",
        "# --- 1. Setup ---\n",
        "!pip install -q tensorflow scikit-learn pandas nltk tqdm\n",
        "\n",
        "import os, re, random\n",
        "import numpy as np\n",
        "import pandas as pd\n",
        "from sklearn.model_selection import train_test_split\n",
        "from sklearn.metrics import classification_report, accuracy_score, precision_score, recall_score, f1_score\n",
        "\n",
        "import tensorflow as tf\n",
        "from tensorflow.keras.preprocessing.text import Tokenizer\n",
        "from tensorflow.keras.preprocessing.sequence import pad_sequences\n",
        "from tensorflow.keras.models import Sequential\n",
        "from tensorflow.keras.layers import Embedding, Dropout, Conv1D, MaxPooling1D, Flatten, Dense\n",
        "from tensorflow.keras.optimizers import Adam\n",
        "\n",
        "# Reproducibility\n",
        "SEED = 42\n",
        "random.seed(SEED); np.random.seed(SEED); tf.random.set_seed(SEED)\n",
        "\n",
        "# --- 2. Load ISOT dataset (tiny subset for demo) ---\n",
        "fake = pd.read_csv(\"Fake.csv\").sample(100, random_state=SEED)  # take 100 fake\n",
        "real = pd.read_csv(\"True.csv\").sample(100, random_state=SEED)  # take 100 true\n",
        "fake[\"label\"] = 0\n",
        "real[\"label\"] = 1\n",
        "df = pd.concat([fake, real]).reset_index(drop=True)\n",
        "\n",
        "df[\"content\"] = df[\"title\"].fillna(\"\") + \" \" + df[\"text\"].fillna(\"\")\n",
        "df = df[[\"content\", \"label\"]].dropna()\n",
        "\n",
        "print(\"Dataset shape:\", df.shape)\n",
        "df.head()\n",
        "\n",
        "# --- 3. Preprocessing (simple) ---\n",
        "def clean_text(text):\n",
        "    text = str(text).lower()\n",
        "    text = re.sub(r\"http\\\\S+\", \" \", text)       # remove URLs\n",
        "    text = re.sub(r\"[^a-zA-Z0-9\\\\s]\", \" \", text)  # remove punctuation\n",
        "    return text\n",
        "\n",
        "df[\"clean\"] = df[\"content\"].apply(clean_text)\n",
        "\n",
        "# --- 4. Tokenize & Pad ---\n",
        "VOCAB_SIZE = 20000\n",
        "MAXLEN = 32\n",
        "EMBEDDING_DIM = 50  # use 50-d glove for speed in demo (200d in paper)\n",
        "\n",
        "tokenizer = Tokenizer(num_words=VOCAB_SIZE, oov_token=\"<OOV>\")\n",
        "tokenizer.fit_on_texts(df[\"clean\"])\n",
        "seqs = tokenizer.texts_to_sequences(df[\"clean\"])\n",
        "X = pad_sequences(seqs, maxlen=MAXLEN, padding=\"post\", truncating=\"post\")\n",
        "y = df[\"label\"].values\n",
        "\n",
        "X_train, X_test, y_train, y_test = train_test_split(X, y, test_size=0.2, stratify=y, random_state=SEED)\n",
        "\n",
        "# --- 5. Build OPCNN model (simplified) ---\n",
        "def build_opcnn(vocab_size=VOCAB_SIZE, embedding_dim=EMBEDDING_DIM, maxlen=MAXLEN,\n",
        "                filters=64, kernel_size=3, pool_size=2, dropout_rate=0.5):\n",
        "    model = Sequential()\n",
        "    model.add(Embedding(vocab_size, embedding_dim, input_length=maxlen))\n",
        "    model.add(Dropout(dropout_rate))\n",
        "    model.add(Conv1D(filters=filters, kernel_size=kernel_size, activation=\"relu\"))\n",
        "    model.add(MaxPooling1D(pool_size=pool_size))\n",
        "    model.add(Flatten())\n",
        "    model.add(Dense(1, activation=\"sigmoid\"))\n",
        "    model.compile(loss=\"binary_crossentropy\", optimizer=Adam(), metrics=[\"accuracy\"])\n",
        "    return model\n",
        "\n",
        "model = build_opcnn()\n",
        "model.summary()\n",
        "\n",
        "# --- 6. Train ---\n",
        "history = model.fit(X_train, y_train,\n",
        "                    validation_split=0.2,\n",
        "                    epochs=5,\n",
        "                    batch_size=16,\n",
        "                    verbose=1)\n",
        "\n",
        "# --- 7. Evaluate ---\n",
        "y_pred_prob = model.predict(X_test).ravel()\n",
        "y_pred = (y_pred_prob >= 0.5).astype(int)\n",
        "\n",
        "print(\"Accuracy:\", accuracy_score(y_test, y_pred))\n",
        "print(\"Precision:\", precision_score(y_test, y_pred))\n",
        "print(\"Recall:\", recall_score(y_test, y_pred))\n",
        "print(\"F1:\", f1_score(y_test, y_pred))\n",
        "print(\"\\nClassification Report:\\n\", classification_report(y_test, y_pred))\n"
      ]
    },
    {
      "cell_type": "markdown",
      "source": [
        "# **Fake** **News** **Detection** **Model** **Creation**"
      ],
      "metadata": {
        "id": "vcKoONkZ06tx"
      }
    },
    {
      "cell_type": "code",
      "source": [
        "!pip install -q tensorflow scikit-learn pandas nltk hyperopt tqdm\n",
        "import os, re, json, random\n",
        "import numpy as np\n",
        "import pandas as pd\n",
        "from tqdm import tqdm\n",
        "from sklearn.model_selection import train_test_split\n",
        "from sklearn.metrics import accuracy_score, precision_score, recall_score, f1_score, classification_report, confusion_matrix\n",
        "\n",
        "import tensorflow as tf\n",
        "from tensorflow.keras.preprocessing.text import Tokenizer\n",
        "from tensorflow.keras.preprocessing.sequence import pad_sequences\n",
        "from tensorflow.keras.models import Sequential\n",
        "from tensorflow.keras.layers import Embedding, Dropout, Conv1D, MaxPooling1D, Flatten, Dense\n",
        "from tensorflow.keras.optimizers import Adam\n",
        "from tensorflow.keras.callbacks import EarlyStopping, ModelCheckpoint\n",
        "\n",
        "# reproducibility (best effort)\n",
        "SEED = 42\n",
        "random.seed(SEED)\n",
        "np.random.seed(SEED)\n",
        "tf.random.set_seed(SEED)\n",
        "\n"
      ],
      "metadata": {
        "id": "MBcopp950Gq0"
      },
      "execution_count": null,
      "outputs": []
    },
    {
      "cell_type": "markdown",
      "source": [
        "#**Data** **Assigning**\n"
      ],
      "metadata": {
        "id": "hp13w8ql243c"
      }
    },
    {
      "cell_type": "code",
      "source": [
        "# Put your dataset files in the working directory.\n",
        "# Paper used ISOT, FakeNewsNet, Kaggle dataset, FA-KES5 — pick one or adapt paths. :contentReference[oaicite:9]{index=9}\n",
        "\n",
        "def load_isot(fake_path='Fake.csv', real_path='True.csv'):\n",
        "    fake = pd.read_csv(fake_path)   # expected columns: title, text, ...\n",
        "    real = pd.read_csv(real_path)\n",
        "    fake['label'] = 0\n",
        "    real['label'] = 1\n",
        "    df = pd.concat([fake, real], ignore_index=True)\n",
        "    # prefer using 'title' + 'text' concatenated if present\n",
        "    if 'title' in df.columns and 'text' in df.columns:\n",
        "        df['content'] = df['title'].fillna('') + ' ' + df['text'].fillna('')\n",
        "    else:\n",
        "        # fallback: assume a 'text' or 'content' column exists\n",
        "        df['content'] = df.get('text') if 'text' in df.columns else df.get('content')\n",
        "    df = df[['content','label']].dropna().reset_index(drop=True)\n",
        "    return df\n",
        "\n",
        "# Example usage:\n",
        "df = load_isot('Fake.csv', 'True.csv')\n",
        "print(\"Dataset shape:\", df.shape)\n",
        "df.head()"
      ],
      "metadata": {
        "colab": {
          "base_uri": "https://localhost:8080/",
          "height": 224
        },
        "id": "TB9amDZ-20v6",
        "outputId": "bec68a45-b594-43f2-ff83-ea7ec985881b"
      },
      "execution_count": null,
      "outputs": [
        {
          "output_type": "stream",
          "name": "stdout",
          "text": [
            "Dataset shape: (44898, 2)\n"
          ]
        },
        {
          "output_type": "execute_result",
          "data": {
            "text/plain": [
              "                                             content  label\n",
              "0   Donald Trump Sends Out Embarrassing New Year’...      0\n",
              "1   Drunk Bragging Trump Staffer Started Russian ...      0\n",
              "2   Sheriff David Clarke Becomes An Internet Joke...      0\n",
              "3   Trump Is So Obsessed He Even Has Obama’s Name...      0\n",
              "4   Pope Francis Just Called Out Donald Trump Dur...      0"
            ],
            "text/html": [
              "\n",
              "  <div id=\"df-0181e3fb-8bc4-4c0a-ae68-a2cb6c183d6e\" class=\"colab-df-container\">\n",
              "    <div>\n",
              "<style scoped>\n",
              "    .dataframe tbody tr th:only-of-type {\n",
              "        vertical-align: middle;\n",
              "    }\n",
              "\n",
              "    .dataframe tbody tr th {\n",
              "        vertical-align: top;\n",
              "    }\n",
              "\n",
              "    .dataframe thead th {\n",
              "        text-align: right;\n",
              "    }\n",
              "</style>\n",
              "<table border=\"1\" class=\"dataframe\">\n",
              "  <thead>\n",
              "    <tr style=\"text-align: right;\">\n",
              "      <th></th>\n",
              "      <th>content</th>\n",
              "      <th>label</th>\n",
              "    </tr>\n",
              "  </thead>\n",
              "  <tbody>\n",
              "    <tr>\n",
              "      <th>0</th>\n",
              "      <td>Donald Trump Sends Out Embarrassing New Year’...</td>\n",
              "      <td>0</td>\n",
              "    </tr>\n",
              "    <tr>\n",
              "      <th>1</th>\n",
              "      <td>Drunk Bragging Trump Staffer Started Russian ...</td>\n",
              "      <td>0</td>\n",
              "    </tr>\n",
              "    <tr>\n",
              "      <th>2</th>\n",
              "      <td>Sheriff David Clarke Becomes An Internet Joke...</td>\n",
              "      <td>0</td>\n",
              "    </tr>\n",
              "    <tr>\n",
              "      <th>3</th>\n",
              "      <td>Trump Is So Obsessed He Even Has Obama’s Name...</td>\n",
              "      <td>0</td>\n",
              "    </tr>\n",
              "    <tr>\n",
              "      <th>4</th>\n",
              "      <td>Pope Francis Just Called Out Donald Trump Dur...</td>\n",
              "      <td>0</td>\n",
              "    </tr>\n",
              "  </tbody>\n",
              "</table>\n",
              "</div>\n",
              "    <div class=\"colab-df-buttons\">\n",
              "\n",
              "  <div class=\"colab-df-container\">\n",
              "    <button class=\"colab-df-convert\" onclick=\"convertToInteractive('df-0181e3fb-8bc4-4c0a-ae68-a2cb6c183d6e')\"\n",
              "            title=\"Convert this dataframe to an interactive table.\"\n",
              "            style=\"display:none;\">\n",
              "\n",
              "  <svg xmlns=\"http://www.w3.org/2000/svg\" height=\"24px\" viewBox=\"0 -960 960 960\">\n",
              "    <path d=\"M120-120v-720h720v720H120Zm60-500h600v-160H180v160Zm220 220h160v-160H400v160Zm0 220h160v-160H400v160ZM180-400h160v-160H180v160Zm440 0h160v-160H620v160ZM180-180h160v-160H180v160Zm440 0h160v-160H620v160Z\"/>\n",
              "  </svg>\n",
              "    </button>\n",
              "\n",
              "  <style>\n",
              "    .colab-df-container {\n",
              "      display:flex;\n",
              "      gap: 12px;\n",
              "    }\n",
              "\n",
              "    .colab-df-convert {\n",
              "      background-color: #E8F0FE;\n",
              "      border: none;\n",
              "      border-radius: 50%;\n",
              "      cursor: pointer;\n",
              "      display: none;\n",
              "      fill: #1967D2;\n",
              "      height: 32px;\n",
              "      padding: 0 0 0 0;\n",
              "      width: 32px;\n",
              "    }\n",
              "\n",
              "    .colab-df-convert:hover {\n",
              "      background-color: #E2EBFA;\n",
              "      box-shadow: 0px 1px 2px rgba(60, 64, 67, 0.3), 0px 1px 3px 1px rgba(60, 64, 67, 0.15);\n",
              "      fill: #174EA6;\n",
              "    }\n",
              "\n",
              "    .colab-df-buttons div {\n",
              "      margin-bottom: 4px;\n",
              "    }\n",
              "\n",
              "    [theme=dark] .colab-df-convert {\n",
              "      background-color: #3B4455;\n",
              "      fill: #D2E3FC;\n",
              "    }\n",
              "\n",
              "    [theme=dark] .colab-df-convert:hover {\n",
              "      background-color: #434B5C;\n",
              "      box-shadow: 0px 1px 3px 1px rgba(0, 0, 0, 0.15);\n",
              "      filter: drop-shadow(0px 1px 2px rgba(0, 0, 0, 0.3));\n",
              "      fill: #FFFFFF;\n",
              "    }\n",
              "  </style>\n",
              "\n",
              "    <script>\n",
              "      const buttonEl =\n",
              "        document.querySelector('#df-0181e3fb-8bc4-4c0a-ae68-a2cb6c183d6e button.colab-df-convert');\n",
              "      buttonEl.style.display =\n",
              "        google.colab.kernel.accessAllowed ? 'block' : 'none';\n",
              "\n",
              "      async function convertToInteractive(key) {\n",
              "        const element = document.querySelector('#df-0181e3fb-8bc4-4c0a-ae68-a2cb6c183d6e');\n",
              "        const dataTable =\n",
              "          await google.colab.kernel.invokeFunction('convertToInteractive',\n",
              "                                                    [key], {});\n",
              "        if (!dataTable) return;\n",
              "\n",
              "        const docLinkHtml = 'Like what you see? Visit the ' +\n",
              "          '<a target=\"_blank\" href=https://colab.research.google.com/notebooks/data_table.ipynb>data table notebook</a>'\n",
              "          + ' to learn more about interactive tables.';\n",
              "        element.innerHTML = '';\n",
              "        dataTable['output_type'] = 'display_data';\n",
              "        await google.colab.output.renderOutput(dataTable, element);\n",
              "        const docLink = document.createElement('div');\n",
              "        docLink.innerHTML = docLinkHtml;\n",
              "        element.appendChild(docLink);\n",
              "      }\n",
              "    </script>\n",
              "  </div>\n",
              "\n",
              "\n",
              "    <div id=\"df-2dd60bcb-8561-4235-a65d-bcab573e9ef5\">\n",
              "      <button class=\"colab-df-quickchart\" onclick=\"quickchart('df-2dd60bcb-8561-4235-a65d-bcab573e9ef5')\"\n",
              "                title=\"Suggest charts\"\n",
              "                style=\"display:none;\">\n",
              "\n",
              "<svg xmlns=\"http://www.w3.org/2000/svg\" height=\"24px\"viewBox=\"0 0 24 24\"\n",
              "     width=\"24px\">\n",
              "    <g>\n",
              "        <path d=\"M19 3H5c-1.1 0-2 .9-2 2v14c0 1.1.9 2 2 2h14c1.1 0 2-.9 2-2V5c0-1.1-.9-2-2-2zM9 17H7v-7h2v7zm4 0h-2V7h2v10zm4 0h-2v-4h2v4z\"/>\n",
              "    </g>\n",
              "</svg>\n",
              "      </button>\n",
              "\n",
              "<style>\n",
              "  .colab-df-quickchart {\n",
              "      --bg-color: #E8F0FE;\n",
              "      --fill-color: #1967D2;\n",
              "      --hover-bg-color: #E2EBFA;\n",
              "      --hover-fill-color: #174EA6;\n",
              "      --disabled-fill-color: #AAA;\n",
              "      --disabled-bg-color: #DDD;\n",
              "  }\n",
              "\n",
              "  [theme=dark] .colab-df-quickchart {\n",
              "      --bg-color: #3B4455;\n",
              "      --fill-color: #D2E3FC;\n",
              "      --hover-bg-color: #434B5C;\n",
              "      --hover-fill-color: #FFFFFF;\n",
              "      --disabled-bg-color: #3B4455;\n",
              "      --disabled-fill-color: #666;\n",
              "  }\n",
              "\n",
              "  .colab-df-quickchart {\n",
              "    background-color: var(--bg-color);\n",
              "    border: none;\n",
              "    border-radius: 50%;\n",
              "    cursor: pointer;\n",
              "    display: none;\n",
              "    fill: var(--fill-color);\n",
              "    height: 32px;\n",
              "    padding: 0;\n",
              "    width: 32px;\n",
              "  }\n",
              "\n",
              "  .colab-df-quickchart:hover {\n",
              "    background-color: var(--hover-bg-color);\n",
              "    box-shadow: 0 1px 2px rgba(60, 64, 67, 0.3), 0 1px 3px 1px rgba(60, 64, 67, 0.15);\n",
              "    fill: var(--button-hover-fill-color);\n",
              "  }\n",
              "\n",
              "  .colab-df-quickchart-complete:disabled,\n",
              "  .colab-df-quickchart-complete:disabled:hover {\n",
              "    background-color: var(--disabled-bg-color);\n",
              "    fill: var(--disabled-fill-color);\n",
              "    box-shadow: none;\n",
              "  }\n",
              "\n",
              "  .colab-df-spinner {\n",
              "    border: 2px solid var(--fill-color);\n",
              "    border-color: transparent;\n",
              "    border-bottom-color: var(--fill-color);\n",
              "    animation:\n",
              "      spin 1s steps(1) infinite;\n",
              "  }\n",
              "\n",
              "  @keyframes spin {\n",
              "    0% {\n",
              "      border-color: transparent;\n",
              "      border-bottom-color: var(--fill-color);\n",
              "      border-left-color: var(--fill-color);\n",
              "    }\n",
              "    20% {\n",
              "      border-color: transparent;\n",
              "      border-left-color: var(--fill-color);\n",
              "      border-top-color: var(--fill-color);\n",
              "    }\n",
              "    30% {\n",
              "      border-color: transparent;\n",
              "      border-left-color: var(--fill-color);\n",
              "      border-top-color: var(--fill-color);\n",
              "      border-right-color: var(--fill-color);\n",
              "    }\n",
              "    40% {\n",
              "      border-color: transparent;\n",
              "      border-right-color: var(--fill-color);\n",
              "      border-top-color: var(--fill-color);\n",
              "    }\n",
              "    60% {\n",
              "      border-color: transparent;\n",
              "      border-right-color: var(--fill-color);\n",
              "    }\n",
              "    80% {\n",
              "      border-color: transparent;\n",
              "      border-right-color: var(--fill-color);\n",
              "      border-bottom-color: var(--fill-color);\n",
              "    }\n",
              "    90% {\n",
              "      border-color: transparent;\n",
              "      border-bottom-color: var(--fill-color);\n",
              "    }\n",
              "  }\n",
              "</style>\n",
              "\n",
              "      <script>\n",
              "        async function quickchart(key) {\n",
              "          const quickchartButtonEl =\n",
              "            document.querySelector('#' + key + ' button');\n",
              "          quickchartButtonEl.disabled = true;  // To prevent multiple clicks.\n",
              "          quickchartButtonEl.classList.add('colab-df-spinner');\n",
              "          try {\n",
              "            const charts = await google.colab.kernel.invokeFunction(\n",
              "                'suggestCharts', [key], {});\n",
              "          } catch (error) {\n",
              "            console.error('Error during call to suggestCharts:', error);\n",
              "          }\n",
              "          quickchartButtonEl.classList.remove('colab-df-spinner');\n",
              "          quickchartButtonEl.classList.add('colab-df-quickchart-complete');\n",
              "        }\n",
              "        (() => {\n",
              "          let quickchartButtonEl =\n",
              "            document.querySelector('#df-2dd60bcb-8561-4235-a65d-bcab573e9ef5 button');\n",
              "          quickchartButtonEl.style.display =\n",
              "            google.colab.kernel.accessAllowed ? 'block' : 'none';\n",
              "        })();\n",
              "      </script>\n",
              "    </div>\n",
              "\n",
              "    </div>\n",
              "  </div>\n"
            ],
            "application/vnd.google.colaboratory.intrinsic+json": {
              "type": "dataframe",
              "variable_name": "df",
              "summary": "{\n  \"name\": \"df\",\n  \"rows\": 44898,\n  \"fields\": [\n    {\n      \"column\": \"content\",\n      \"properties\": {\n        \"dtype\": \"string\",\n        \"num_unique_values\": 39105,\n        \"samples\": [\n          \"Many 'lost' voters say they have found their candidate in Trump WASHINGTON/NEW YORK (Reuters) - Ted Wade hasn\\u2019t cared about politics enough to cast a vote in a U.S. presidential election for almost a quarter of a century, back when he supported Ross Perot\\u2019s independent candidacy in 1992. But Republican Donald Trump\\u2019s 2016 White House bid has motivated Wade to get involved and he plans to support the real estate mogul in Nevada\\u2019s nominating caucus next month. Trump is a \\u201cnon-politician\\u201d who can fix the \\u201cchaos\\u201d in Washington, he says. About one in 10 Americans who plan to cast a vote this election will do so for the first time in years, if ever, and Trump holds a decided edge with them, according to polling by Reuters/Ipsos. (tmsnrt.rs/1SgeLvi) These voters offer Trump a pool of voters who could be decisive either in the Republican primaries or a general election. They could be crucial for Trump in early-voting states such as Iowa and South Carolina, where his nearest rival, Senator Ted Cruz, is putting pressure on Trump and enjoys a strong base of support with more traditionally conservative voters. In Reuters/Ipsos polling from June to December 2015, 27.3 percent of these \\u201cnew\\u201d voters said they would vote for Trump, higher than his poll numbers among independents and Republicans who regularly vote. By way of comparison, Cruz captures just 3.4 percent of these voters. And Senator Marco Rubio of Florida snags only 4 percent. \\u201cI\\u2019m tired of the chaos between Democrats and Republicans and want to give somebody a try who I think can make a difference,\\u201d said Wade of Trump. The 51-year-old has already switched his affiliation from Democrat to Republican and even attended a Trump campaign event in Las Vegas. He has told his three older children to get involved in the elections, although he did not say whether he wanted them to vote for Trump.  Trump, the Republican front-runner, has made targeting \\u201clost\\u201d voters such as Wade a focus of his campaign. His anti-immigrant rhetoric and protectionist trade proposals have helped him to fashion a message tailored to reach Americans alienated by the endless enmity between the political parties and who, because of declining economic prospects, may feel like neither party has done much for them. Trump\\u2019s strategy is a gamble, given the lack of reliability of many of the voters with whom he is most popular. In interviews, some of those lost voters insist they will show up, saying they are drawn to Trump\\u2019s outsider status and his willingness to upend the political system. Tucson, Arizona, resident Renay Cunningham, 56, said she had never paid much attention to politics in the past. She plans to cast her first ever vote for Trump after hearing his proposed policies to curb illegal immigration, which include building a giant wall on the southern border and making Mexico pay for it. \\u201cWe need a piranha in there, and he\\u2019s definitely a piranha,\\u201d she said. Trump and his operatives are confident they can do what few of his rivals for the Republican nomination have shown they can do \\u2014 expand the party\\u2019s potential voter pool. But while Democrat Barack Obama did that eight years ago by largely registering new voters, including record levels of minorities, both male and female, in urban centers, Trump\\u2019s campaign has instead largely sought out the disaffected, who tend to be overwhelmingly older, white, and less educated than the broader electorate. \\u201cMy whole campaign has been focused on expanding the number of people who want to, and will, participate in this election cycle,\\u201d Trump wrote in a recent op-ed in USA Today. When analyzing \\u201clost\\u201d or \\u201cnew\\u201d voters, Reuters compiled poll results from people who haven\\u2019t voted in the previous two presidential campaigns and midterm congressional elections. The results focused only on those who said they were nearly certain to vote in the November election. It included responses from 3,440 \\u201cnew\\u201d Republican and independent voters \\u2013 a sample that has a credibility interval of 2 percentage points. Jan Leighley, an expert on turnout at American University, said it\\u2019s too soon to compare Trump\\u2019s \\u201cnew\\u201d voters with the disenfranchised voters, especially minorities, who in 2008 turned out in record numbers to elect the first black president. Those voters didn\\u2019t find their way to the polls simply because they were inspired to make history, Leighley said. \\u201cHe also had a kick-ass mobilization structure.\\u201d \\u201cObama\\u2019s campaign went door-to-door. They canvassed whole neighborhoods. \\u201cI don\\u2019t know if he (Trump) has the campaign infrastructure to make sure that the folks who are riled up are walked to the polls on Election Day,\\u201d she said. Trump\\u2019s campaign insists he does have the infrastructure, but won\\u2019t provide specifics on how it intends to turn casual supporters into engaged voters. The campaign says it does follow up with the thousands of attendees who jam arenas for Trump\\u2019s rallies. That\\u2019s one significant advantage the reality star has over the other candidates in the Republican field, as the challenge in reaching voters who have fallen out of the political process often lies in simply locating them. \\u201cWe\\u2019ve identified a lot of people in early primary states who have not participated in the process before,\\u201d campaign manager Corey Lewandowski told Reuters. Lewandowski resists the notion that Trump needs to turn out \\u201cnew\\u201d or reluctant voters to win states such as Iowa. Even if the Trump campaign isn\\u2019t necessarily counting on them, it may be reassuring that his supporters among \\u201cnew\\u201d voters who responded to the Reuters/Ipsos survey appear motivated to cast a vote for him. At least for the time being. Ronald Thomas, a 49-year-old truck driver and Navy veteran in North Carolina, said he, too, has never voted in a presidential contest. His girlfriend would push him to vote but he would always say \\u201cYeah, but the right one ain\\u2019t come along yet,\\u2019\\u201d Thomas said. Trump is that man. His willingness to take on the government has set him apart as someone who would \\u201cactually look out for the people,\\u201d said Thomas. Now he wants to know how to register so that he can vote for the billionaire.  And there\\u2019s Vince DiSylvester, a retired maintenance worker in Missouri, who, at 73, said has never cast a ballot for president. But Trump has inspired him to rethink that. \\u201cHe\\u2019s a businessman, he knows business, he knows how to get things done,\\u201d he said. \\u201cAnd he tells it like it is. If you don\\u2019t like it - well, too bad.\\u201d  (Editing by Ross Colvin) SAP is the sponsor of this coverage which is independently produced by the staff of Reuters News Agency.\",\n          \"Iranian Revolutionary Guards commander, another fighter, killed in Syria: Iranian media BEIRUT (Reuters) - A commander in Iran s elite Revolutionary Guards and a lower-ranking Iranian fighter have been killed fighting Islamic State in Syria in recent days, Iranian media reported on Sunday. The Revolutionary Guards, Iran s most powerful military force which also oversees an economic empire worth billions of dollars, have been fighting in support of Syrian president Bashar al-Assad for several years. An Iranian official told the Tasnim news agency last year that more than 1,000 Iranians have been killed in Syria. Senior members of the Guards have been among those killed. Kheyrollah Samadi, a Guards commander in charge of a unit in Syria, died on Thursday in fighting in the Albu Kamal region, bordering Iraq, according to Fars News. Samadi was killed in clashes with Islamic State, according to the Ghatreh news site. Iranian media have previously reported on fighting in that area between Iran s Shi ite militia allies and Islamic State. The Syrian army and its allies took complete control over Albu Kamal, Islamic State s last significant town in Syria, a military news service run by Hezbollah said on Sunday. Samadi, who fought in the Iran-Iraq war during the 1980s and had retired from the Iranian military before signing on to go to Syria, was killed by a mortar explosion, Fars News, a news agency, said. Iranian news sites posted pictures on Sunday of Samadi with Qassem Soleimani, head of the Guards branch responsible for operations outside Iran. The lower-ranking Iranian fighter, Mehdi Movahednia, was killed on Saturday in clashes with Islamic State in the town of Mayadin in eastern Syria, Fars News reported. The Revolutionary Guards initially kept quiet about their role in the Syria conflict. But in recent years, as casualties have mounted, they have been more outspoken about their engagement, framing it as an existential struggle against the Sunni Muslim fighters of Islamic State who see Shi ites, the majority of Iran s population, as apostates. On web sites linked to the Guards, members of the organization killed in Syria and Iraq are praised as protectors of Shi ite holy sites and labeled  defenders of the shrine . U.S. President Donald Trump last month gave the U.S. Treasury Department authority to impose economic sanctions on members of the Iranian Revolutionary Guard in response to what Washington calls its efforts to destabilize and undermine its opponents in the Middle East. \",\n          \"Cambodian leader gets China's backing as West condemns crackdown PHNOM PENH (Reuters) - Cambodian Prime Minister Hun Sen won words of support from China on Monday after the United States and European Union condemned the arrest of his main rival and a widening crackdown on his critics before next year s election. A day after Kem Sokha was arrested in a midnight raid on his house, one of his deputies said donor countries should open their eyes to Cambodia s  false democracy  and put more pressure on Hun Sen. When asked about Kem Sokha s arrest at a press briefing in Beijing, Chinese foreign ministry spokesman Geng Shuang said China  supports the Cambodian government s efforts to protect national security and stability.   Opposition politicians, rights groups and independent media have come under growing pressure as next year s election approaches. It could represent Hun Sen s greatest electoral challenge in more than three decades in power. One of China s closest allies in the region, Hun Sen has increasingly ignored criticism from Western donors, whose budget support is no longer as critical as it during the early years of his rule, when Cambodia was little more than a failed state.  We cannot allow foreigners to use Khmers to kill Khmers  any more,  Hun Sen said on Monday, referring to the Khmer Rouge genocide that destroyed Cambodia in the 1970s. Hun Sen, 65, is a former Khmer Rouge soldier who switched sides. Sokha was allowed to see a lawyer on Monday at his prison several hours from Phnom Penh near the border with Vietnam.  I may lose freedom, but may freedom never die in Cambodia,  Kem Sokha was quoted as saying in a post on Twitter that was repeated by his daughter, Monovithya Kem. The European Union called for his immediate release, based on the fact that he is meant to have parliamentary immunity, as an elected lawmaker.  This arrest suggests a further effort to restrict the democratic space in Cambodia,  the EU said in a statement. The U.S. State Department expressed  grave concern  at Sokha s arrest on charges it said appeared to be politically motivated. It said in a statement it was also worried about other curbs on media and civil society. Hun Sen has steadily increased his rhetoric against the United States, ending joint military exercises, expelling a U.S. pro-democracy group and on Sunday accusing Washington of conspiring with Kem Sokha. U.N. High Commissioner for Human Rights Zeid Ra ad Al Hussein said he was seriously concerned about the arrest, noting that it was on the basis of the video of a speech he had made in 2013 and which had been publicly available since then. One of Kem Sokha s deputies, Mu Sochua, said the opposition had done as much as it could and would not call for demonstrations because it believed in non-violence. She called on donors to help.  There isn t true peace. There has always been a false democracy,  said Mu Sochua, 63, who is one of three deputies to Kem Sokha in the Cambodia National Rescue Party (CNRP).   The international community have been willing to close their eyes and play along with it. Right now all the red lines have been crossed,  she told Reuters in an interview in Phnom Penh. An independent newspaper that had often been critical of Hun Sen published its last edition on Monday, saying it had been forced to close after being given one month to pay a crippling $6.3 million in back taxes . Its final headline, on the arrest of Kem Sokha, was  Descent Into Outright Dictatorship . \"\n        ],\n        \"semantic_type\": \"\",\n        \"description\": \"\"\n      }\n    },\n    {\n      \"column\": \"label\",\n      \"properties\": {\n        \"dtype\": \"number\",\n        \"std\": 0,\n        \"min\": 0,\n        \"max\": 1,\n        \"num_unique_values\": 2,\n        \"samples\": [\n          1,\n          0\n        ],\n        \"semantic_type\": \"\",\n        \"description\": \"\"\n      }\n    }\n  ]\n}"
            }
          },
          "metadata": {},
          "execution_count": 17
        }
      ]
    },
    {
      "cell_type": "markdown",
      "source": [
        "#**Text** **Preprocessing**"
      ],
      "metadata": {
        "id": "LeCi6KoS3azR"
      }
    },
    {
      "cell_type": "code",
      "source": [
        "import nltk\n",
        "nltk.download('punkt')\n",
        "nltk.download('stopwords')\n",
        "nltk.download('punkt_tab')\n",
        "from nltk.corpus import stopwords\n",
        "from nltk.stem import PorterStemmer\n",
        "from nltk.tokenize import word_tokenize\n",
        "\n",
        "stop_words = set(stopwords.words('english'))\n",
        "stemmer = PorterStemmer()\n",
        "\n",
        "url_re = re.compile(r'https?://\\S+|www\\.\\S+')\n",
        "html_re = re.compile(r'<.*?>')\n",
        "nonalpha_re = re.compile(r'[^a-zA-Z0-9\\s]')\n",
        "\n",
        "def clean_text(text, do_stemming=True):\n",
        "    if not isinstance(text, str):\n",
        "        return ''\n",
        "    text = text.lower()\n",
        "    text = html_re.sub(' ', text)\n",
        "    text = url_re.sub(' ', text)\n",
        "    text = nonalpha_re.sub(' ', text)\n",
        "    tokens = word_tokenize(text)\n",
        "    tokens = [t for t in tokens if t not in stop_words and len(t) > 1]\n",
        "    if do_stemming:\n",
        "        tokens = [stemmer.stem(t) for t in tokens]\n",
        "    return ' '.join(tokens)\n",
        "\n",
        "# Apply to dataframe:\n",
        "df['clean'] = df['content'].apply(clean_text)\n",
        "df['clean']"
      ],
      "metadata": {
        "colab": {
          "base_uri": "https://localhost:8080/",
          "height": 563
        },
        "id": "tjoUMdCP229I",
        "outputId": "b7df91b7-3ac0-4605-d42b-d94b867f67e3"
      },
      "execution_count": null,
      "outputs": [
        {
          "output_type": "stream",
          "name": "stderr",
          "text": [
            "[nltk_data] Downloading package punkt to /root/nltk_data...\n",
            "[nltk_data]   Package punkt is already up-to-date!\n",
            "[nltk_data] Downloading package stopwords to /root/nltk_data...\n",
            "[nltk_data]   Package stopwords is already up-to-date!\n",
            "[nltk_data] Downloading package punkt_tab to /root/nltk_data...\n",
            "[nltk_data]   Package punkt_tab is already up-to-date!\n"
          ]
        },
        {
          "output_type": "execute_result",
          "data": {
            "text/plain": [
              "0        donald trump send embarrass new year eve messa...\n",
              "1        drunk brag trump staffer start russian collus ...\n",
              "2        sheriff david clark becom internet joke threat...\n",
              "3        trump obsess even obama name code websit imag ...\n",
              "4        pope franci call donald trump christma speech ...\n",
              "                               ...                        \n",
              "44893    fulli commit nato back new approach afghanista...\n",
              "44894    lexisnexi withdrew two product chines market l...\n",
              "44895    minsk cultur hub becom author minsk reuter sha...\n",
              "44896    vatican upbeat possibl pope franci visit russi...\n",
              "44897    indonesia buy 14 billion worth russian jet jak...\n",
              "Name: clean, Length: 44898, dtype: object"
            ],
            "text/html": [
              "<div>\n",
              "<style scoped>\n",
              "    .dataframe tbody tr th:only-of-type {\n",
              "        vertical-align: middle;\n",
              "    }\n",
              "\n",
              "    .dataframe tbody tr th {\n",
              "        vertical-align: top;\n",
              "    }\n",
              "\n",
              "    .dataframe thead th {\n",
              "        text-align: right;\n",
              "    }\n",
              "</style>\n",
              "<table border=\"1\" class=\"dataframe\">\n",
              "  <thead>\n",
              "    <tr style=\"text-align: right;\">\n",
              "      <th></th>\n",
              "      <th>clean</th>\n",
              "    </tr>\n",
              "  </thead>\n",
              "  <tbody>\n",
              "    <tr>\n",
              "      <th>0</th>\n",
              "      <td>donald trump send embarrass new year eve messa...</td>\n",
              "    </tr>\n",
              "    <tr>\n",
              "      <th>1</th>\n",
              "      <td>drunk brag trump staffer start russian collus ...</td>\n",
              "    </tr>\n",
              "    <tr>\n",
              "      <th>2</th>\n",
              "      <td>sheriff david clark becom internet joke threat...</td>\n",
              "    </tr>\n",
              "    <tr>\n",
              "      <th>3</th>\n",
              "      <td>trump obsess even obama name code websit imag ...</td>\n",
              "    </tr>\n",
              "    <tr>\n",
              "      <th>4</th>\n",
              "      <td>pope franci call donald trump christma speech ...</td>\n",
              "    </tr>\n",
              "    <tr>\n",
              "      <th>...</th>\n",
              "      <td>...</td>\n",
              "    </tr>\n",
              "    <tr>\n",
              "      <th>44893</th>\n",
              "      <td>fulli commit nato back new approach afghanista...</td>\n",
              "    </tr>\n",
              "    <tr>\n",
              "      <th>44894</th>\n",
              "      <td>lexisnexi withdrew two product chines market l...</td>\n",
              "    </tr>\n",
              "    <tr>\n",
              "      <th>44895</th>\n",
              "      <td>minsk cultur hub becom author minsk reuter sha...</td>\n",
              "    </tr>\n",
              "    <tr>\n",
              "      <th>44896</th>\n",
              "      <td>vatican upbeat possibl pope franci visit russi...</td>\n",
              "    </tr>\n",
              "    <tr>\n",
              "      <th>44897</th>\n",
              "      <td>indonesia buy 14 billion worth russian jet jak...</td>\n",
              "    </tr>\n",
              "  </tbody>\n",
              "</table>\n",
              "<p>44898 rows × 1 columns</p>\n",
              "</div><br><label><b>dtype:</b> object</label>"
            ]
          },
          "metadata": {},
          "execution_count": 20
        }
      ]
    },
    {
      "cell_type": "markdown",
      "source": [
        "#**Tokenization**"
      ],
      "metadata": {
        "id": "VZ3U0uasMJmB"
      }
    },
    {
      "cell_type": "code",
      "source": [
        "VOCAB_SIZE = 20000   # paper used 20000 input-dim for embedding. :contentReference[oaicite:11]{index=11}\n",
        "MAXLEN = 32          # paper used input_length 32. :contentReference[oaicite:12]{index=12}\n",
        "EMBEDDING_DIM = 200  # paper used glove.6B 200d. :contentReference[oaicite:13]{index=13}\n",
        "\n",
        "tokenizer = Tokenizer(num_words=VOCAB_SIZE, oov_token='<OOV>')\n",
        "tokenizer.fit_on_texts(df['clean'].tolist())\n",
        "\n",
        "sequences = tokenizer.texts_to_sequences(df['clean'].tolist())\n",
        "X = pad_sequences(sequences, maxlen=MAXLEN, padding='post', truncating='post')\n",
        "y = df['label'].values\n",
        "\n",
        "# stratified 80/20 split as used in paper. :contentReference[oaicite:14]{index=14}\n",
        "X_train, X_test, y_train, y_test = train_test_split(X, y, test_size=0.2, random_state=SEED, stratify=y)\n"
      ],
      "metadata": {
        "id": "h-EZJNuSOEGu"
      },
      "execution_count": null,
      "outputs": []
    },
    {
      "cell_type": "markdown",
      "source": [
        "# **Build Embedding Matrix**"
      ],
      "metadata": {
        "id": "XsCgeS8ZY-SG"
      }
    },
    {
      "cell_type": "code",
      "source": [
        "# download glove.6B.200d.txt manually and place path here, or use Colab to wget it.\n",
        "!wget http://nlp.stanford.edu/data/glove.6B.zip\n",
        "!unzip glove.6B.zip\n",
        "GLOVE_PATH = 'glove.6B.200d.txt'  # put the file in working dir\n",
        "\n",
        "def load_glove(glove_path):\n",
        "    embeddings_index = {}\n",
        "    with open(glove_path, 'r', encoding='utf8') as f:\n",
        "        for line in tqdm(f, desc='loading glove'):\n",
        "            parts = line.split()\n",
        "            word = parts[0]\n",
        "            coefs = np.asarray(parts[1:], dtype='float32')\n",
        "            embeddings_index[word] = coefs\n",
        "    return embeddings_index\n",
        "\n",
        "emb_index = load_glove(GLOVE_PATH)\n",
        "\n",
        "word_index = tokenizer.word_index\n",
        "num_words = min(VOCAB_SIZE, len(word_index) + 1)\n",
        "embedding_matrix = np.zeros((num_words, EMBEDDING_DIM))\n",
        "for word, i in word_index.items():\n",
        "    if i >= num_words: continue\n",
        "    vec = emb_index.get(word)\n",
        "    if vec is not None:\n",
        "        embedding_matrix[i] = vec\n"
      ],
      "metadata": {
        "colab": {
          "base_uri": "https://localhost:8080/"
        },
        "id": "GJyopCU_aHfd",
        "outputId": "de857957-bc7d-4453-9f21-7e34f207eaa8"
      },
      "execution_count": null,
      "outputs": [
        {
          "output_type": "stream",
          "name": "stdout",
          "text": [
            "--2025-08-26 17:26:29--  http://nlp.stanford.edu/data/glove.6B.zip\n",
            "Resolving nlp.stanford.edu (nlp.stanford.edu)... 171.64.67.140\n",
            "Connecting to nlp.stanford.edu (nlp.stanford.edu)|171.64.67.140|:80... connected.\n",
            "HTTP request sent, awaiting response... 302 Found\n",
            "Location: https://nlp.stanford.edu/data/glove.6B.zip [following]\n",
            "--2025-08-26 17:26:29--  https://nlp.stanford.edu/data/glove.6B.zip\n",
            "Connecting to nlp.stanford.edu (nlp.stanford.edu)|171.64.67.140|:443... connected.\n",
            "HTTP request sent, awaiting response... 301 Moved Permanently\n",
            "Location: https://downloads.cs.stanford.edu/nlp/data/glove.6B.zip [following]\n",
            "--2025-08-26 17:26:30--  https://downloads.cs.stanford.edu/nlp/data/glove.6B.zip\n",
            "Resolving downloads.cs.stanford.edu (downloads.cs.stanford.edu)... 171.64.64.22\n",
            "Connecting to downloads.cs.stanford.edu (downloads.cs.stanford.edu)|171.64.64.22|:443... connected.\n",
            "HTTP request sent, awaiting response... 200 OK\n",
            "Length: 862182613 (822M) [application/zip]\n",
            "Saving to: ‘glove.6B.zip’\n",
            "\n",
            "glove.6B.zip        100%[===================>] 822.24M  5.02MB/s    in 2m 39s  \n",
            "\n",
            "2025-08-26 17:29:09 (5.17 MB/s) - ‘glove.6B.zip’ saved [862182613/862182613]\n",
            "\n",
            "Archive:  glove.6B.zip\n",
            "  inflating: glove.6B.50d.txt        \n",
            "  inflating: glove.6B.100d.txt       \n",
            "  inflating: glove.6B.200d.txt       \n",
            "  inflating: glove.6B.300d.txt       \n"
          ]
        },
        {
          "output_type": "stream",
          "name": "stderr",
          "text": [
            "loading glove: 400000it [00:26, 15248.88it/s]\n"
          ]
        }
      ]
    },
    {
      "cell_type": "markdown",
      "source": [
        "# **Building OPCNN Model Factory**"
      ],
      "metadata": {
        "id": "KDRfcLjJdITf"
      }
    },
    {
      "cell_type": "code",
      "source": [
        "def build_opcnn(vocab_size=num_words, embedding_dim=EMBEDDING_DIM, maxlen=MAXLEN,\n",
        "                embedding_matrix=embedding_matrix, filters=128, kernel_size=3, pool_size=2, dropout_rate=0.5):\n",
        "    model = Sequential()\n",
        "    model.add(Embedding(input_dim=vocab_size,\n",
        "                        output_dim=embedding_dim,\n",
        "                        input_length=maxlen,\n",
        "                        weights=[embedding_matrix],\n",
        "                        trainable=False))  # paper used pretrained glove; you can choose trainable=True to fine-tune\n",
        "    model.add(Dropout(dropout_rate))\n",
        "    model.add(Conv1D(filters=filters, kernel_size=kernel_size, activation='relu'))\n",
        "    model.add(MaxPooling1D(pool_size=pool_size))\n",
        "    model.add(Flatten())\n",
        "    model.add(Dense(1, activation='sigmoid'))  # paper used sigmoid + Adam. :contentReference[oaicite:16]{index=16}\n",
        "    model.compile(loss='binary_crossentropy', optimizer=Adam(), metrics=['accuracy'])\n",
        "    return model\n",
        "\n",
        "# quick test instantiate\n",
        "model = build_opcnn()\n",
        "model.summary()\n"
      ],
      "metadata": {
        "colab": {
          "base_uri": "https://localhost:8080/",
          "height": 395
        },
        "id": "gzG3cImZdqHW",
        "outputId": "d541f86b-816b-4732-db9c-8b199571b0b0"
      },
      "execution_count": null,
      "outputs": [
        {
          "output_type": "stream",
          "name": "stderr",
          "text": [
            "/usr/local/lib/python3.12/dist-packages/keras/src/layers/core/embedding.py:97: UserWarning: Argument `input_length` is deprecated. Just remove it.\n",
            "  warnings.warn(\n"
          ]
        },
        {
          "output_type": "display_data",
          "data": {
            "text/plain": [
              "\u001b[1mModel: \"sequential_1\"\u001b[0m\n"
            ],
            "text/html": [
              "<pre style=\"white-space:pre;overflow-x:auto;line-height:normal;font-family:Menlo,'DejaVu Sans Mono',consolas,'Courier New',monospace\"><span style=\"font-weight: bold\">Model: \"sequential_1\"</span>\n",
              "</pre>\n"
            ]
          },
          "metadata": {}
        },
        {
          "output_type": "display_data",
          "data": {
            "text/plain": [
              "┏━━━━━━━━━━━━━━━━━━━━━━━━━━━━━━━━━┳━━━━━━━━━━━━━━━━━━━━━━━━┳━━━━━━━━━━━━━━━┓\n",
              "┃\u001b[1m \u001b[0m\u001b[1mLayer (type)                   \u001b[0m\u001b[1m \u001b[0m┃\u001b[1m \u001b[0m\u001b[1mOutput Shape          \u001b[0m\u001b[1m \u001b[0m┃\u001b[1m \u001b[0m\u001b[1m      Param #\u001b[0m\u001b[1m \u001b[0m┃\n",
              "┡━━━━━━━━━━━━━━━━━━━━━━━━━━━━━━━━━╇━━━━━━━━━━━━━━━━━━━━━━━━╇━━━━━━━━━━━━━━━┩\n",
              "│ embedding_1 (\u001b[38;5;33mEmbedding\u001b[0m)         │ ?                      │     \u001b[38;5;34m4,000,000\u001b[0m │\n",
              "├─────────────────────────────────┼────────────────────────┼───────────────┤\n",
              "│ dropout_1 (\u001b[38;5;33mDropout\u001b[0m)             │ ?                      │             \u001b[38;5;34m0\u001b[0m │\n",
              "├─────────────────────────────────┼────────────────────────┼───────────────┤\n",
              "│ conv1d_1 (\u001b[38;5;33mConv1D\u001b[0m)               │ ?                      │   \u001b[38;5;34m0\u001b[0m (unbuilt) │\n",
              "├─────────────────────────────────┼────────────────────────┼───────────────┤\n",
              "│ max_pooling1d_1 (\u001b[38;5;33mMaxPooling1D\u001b[0m)  │ ?                      │             \u001b[38;5;34m0\u001b[0m │\n",
              "├─────────────────────────────────┼────────────────────────┼───────────────┤\n",
              "│ flatten_1 (\u001b[38;5;33mFlatten\u001b[0m)             │ ?                      │   \u001b[38;5;34m0\u001b[0m (unbuilt) │\n",
              "├─────────────────────────────────┼────────────────────────┼───────────────┤\n",
              "│ dense_1 (\u001b[38;5;33mDense\u001b[0m)                 │ ?                      │   \u001b[38;5;34m0\u001b[0m (unbuilt) │\n",
              "└─────────────────────────────────┴────────────────────────┴───────────────┘\n"
            ],
            "text/html": [
              "<pre style=\"white-space:pre;overflow-x:auto;line-height:normal;font-family:Menlo,'DejaVu Sans Mono',consolas,'Courier New',monospace\">┏━━━━━━━━━━━━━━━━━━━━━━━━━━━━━━━━━┳━━━━━━━━━━━━━━━━━━━━━━━━┳━━━━━━━━━━━━━━━┓\n",
              "┃<span style=\"font-weight: bold\"> Layer (type)                    </span>┃<span style=\"font-weight: bold\"> Output Shape           </span>┃<span style=\"font-weight: bold\">       Param # </span>┃\n",
              "┡━━━━━━━━━━━━━━━━━━━━━━━━━━━━━━━━━╇━━━━━━━━━━━━━━━━━━━━━━━━╇━━━━━━━━━━━━━━━┩\n",
              "│ embedding_1 (<span style=\"color: #0087ff; text-decoration-color: #0087ff\">Embedding</span>)         │ ?                      │     <span style=\"color: #00af00; text-decoration-color: #00af00\">4,000,000</span> │\n",
              "├─────────────────────────────────┼────────────────────────┼───────────────┤\n",
              "│ dropout_1 (<span style=\"color: #0087ff; text-decoration-color: #0087ff\">Dropout</span>)             │ ?                      │             <span style=\"color: #00af00; text-decoration-color: #00af00\">0</span> │\n",
              "├─────────────────────────────────┼────────────────────────┼───────────────┤\n",
              "│ conv1d_1 (<span style=\"color: #0087ff; text-decoration-color: #0087ff\">Conv1D</span>)               │ ?                      │   <span style=\"color: #00af00; text-decoration-color: #00af00\">0</span> (unbuilt) │\n",
              "├─────────────────────────────────┼────────────────────────┼───────────────┤\n",
              "│ max_pooling1d_1 (<span style=\"color: #0087ff; text-decoration-color: #0087ff\">MaxPooling1D</span>)  │ ?                      │             <span style=\"color: #00af00; text-decoration-color: #00af00\">0</span> │\n",
              "├─────────────────────────────────┼────────────────────────┼───────────────┤\n",
              "│ flatten_1 (<span style=\"color: #0087ff; text-decoration-color: #0087ff\">Flatten</span>)             │ ?                      │   <span style=\"color: #00af00; text-decoration-color: #00af00\">0</span> (unbuilt) │\n",
              "├─────────────────────────────────┼────────────────────────┼───────────────┤\n",
              "│ dense_1 (<span style=\"color: #0087ff; text-decoration-color: #0087ff\">Dense</span>)                 │ ?                      │   <span style=\"color: #00af00; text-decoration-color: #00af00\">0</span> (unbuilt) │\n",
              "└─────────────────────────────────┴────────────────────────┴───────────────┘\n",
              "</pre>\n"
            ]
          },
          "metadata": {}
        },
        {
          "output_type": "display_data",
          "data": {
            "text/plain": [
              "\u001b[1m Total params: \u001b[0m\u001b[38;5;34m4,000,000\u001b[0m (15.26 MB)\n"
            ],
            "text/html": [
              "<pre style=\"white-space:pre;overflow-x:auto;line-height:normal;font-family:Menlo,'DejaVu Sans Mono',consolas,'Courier New',monospace\"><span style=\"font-weight: bold\"> Total params: </span><span style=\"color: #00af00; text-decoration-color: #00af00\">4,000,000</span> (15.26 MB)\n",
              "</pre>\n"
            ]
          },
          "metadata": {}
        },
        {
          "output_type": "display_data",
          "data": {
            "text/plain": [
              "\u001b[1m Trainable params: \u001b[0m\u001b[38;5;34m0\u001b[0m (0.00 B)\n"
            ],
            "text/html": [
              "<pre style=\"white-space:pre;overflow-x:auto;line-height:normal;font-family:Menlo,'DejaVu Sans Mono',consolas,'Courier New',monospace\"><span style=\"font-weight: bold\"> Trainable params: </span><span style=\"color: #00af00; text-decoration-color: #00af00\">0</span> (0.00 B)\n",
              "</pre>\n"
            ]
          },
          "metadata": {}
        },
        {
          "output_type": "display_data",
          "data": {
            "text/plain": [
              "\u001b[1m Non-trainable params: \u001b[0m\u001b[38;5;34m4,000,000\u001b[0m (15.26 MB)\n"
            ],
            "text/html": [
              "<pre style=\"white-space:pre;overflow-x:auto;line-height:normal;font-family:Menlo,'DejaVu Sans Mono',consolas,'Courier New',monospace\"><span style=\"font-weight: bold\"> Non-trainable params: </span><span style=\"color: #00af00; text-decoration-color: #00af00\">4,000,000</span> (15.26 MB)\n",
              "</pre>\n"
            ]
          },
          "metadata": {}
        }
      ]
    },
    {
      "cell_type": "code",
      "source": [
        "from hyperopt import fmin, tpe, hp, Trials, STATUS_OK\n",
        "from tensorflow.keras.callbacks import EarlyStopping\n",
        "import numpy as np\n",
        "\n",
        "# search space (example)\n",
        "space = {\n",
        "    'filters': hp.choice('filters', [64, 128, 256]),\n",
        "    'kernel': hp.choice('kernel', [2,3,4,5]),\n",
        "    'pool': hp.choice('pool', [2,3]),\n",
        "    'dropout': hp.uniform('dropout', 0.1, 0.9),    # paper used dropout search range 0.1-0.9. :contentReference[oaicite:17]{index=17}\n",
        "    'batch_size': hp.choice('batch_size', [32,64]),\n",
        "    'epochs': hp.choice('epochs', [5,10,15])      # keep small for demo; increase for real runs\n",
        "}\n",
        "\n",
        "def objective(params):\n",
        "    tf.keras.backend.clear_session()\n",
        "    model = build_opcnn(filters=params['filters'],\n",
        "                        kernel_size=params['kernel'],\n",
        "                        pool_size=params['pool'],\n",
        "                        dropout_rate=params['dropout'])\n",
        "    es = EarlyStopping(monitor='val_loss', patience=3, restore_best_weights=True, verbose=0)\n",
        "    h = model.fit(X_train, y_train,\n",
        "                  validation_split=0.1,\n",
        "                  epochs=params['epochs'],\n",
        "                  batch_size=params['batch_size'],\n",
        "                  callbacks=[es],\n",
        "                  verbose=0)\n",
        "    val_loss = min(h.history['val_loss'])\n",
        "    # we minimize validation loss\n",
        "    return {'loss': val_loss, 'status': STATUS_OK}\n",
        "\n",
        "trials = Trials()\n",
        "best = fmin(fn=objective, space=space, algo=tpe.suggest, max_evals=20, trials=trials, rstate=np.random.default_rng(SEED))\n",
        "print('best:', best)"
      ],
      "metadata": {
        "colab": {
          "base_uri": "https://localhost:8080/"
        },
        "id": "HJTNPalSfNfF",
        "outputId": "fc161266-153d-47a2-8e8a-2b7f7aa6723b"
      },
      "execution_count": null,
      "outputs": [
        {
          "output_type": "stream",
          "name": "stdout",
          "text": [
            "100%|██████████| 20/20 [39:38<00:00, 118.92s/trial, best loss: 0.0051206243224442005]\n",
            "best: {'batch_size': np.int64(0), 'dropout': np.float64(0.31465980296843005), 'epochs': np.int64(0), 'filters': np.int64(1), 'kernel': np.int64(0), 'pool': np.int64(0)}\n"
          ]
        }
      ]
    },
    {
      "cell_type": "markdown",
      "source": [
        "# **Train Final Model**"
      ],
      "metadata": {
        "id": "4DubbMGLB9Wj"
      }
    },
    {
      "cell_type": "code",
      "source": [
        "# Map hyperopt indexes back if you used hp.choice above (example mapping depends on your defined choices)\n",
        "# Example: if best['filters']==1 -> actual_filters = [64,128,256][1]\n",
        "filters_list=[64,128,256]\n",
        "kernel_list=[2,3,4,5]\n",
        "pool_list=[2,3]\n",
        "batch_list=[32,64]\n",
        "epoch_list=[5,10,15]\n",
        "\n",
        "best_filters = filters_list[best['filters']]\n",
        "best_kernel = kernel_list[best['kernel']]\n",
        "best_pool = pool_list[best['pool']]\n",
        "best_dropout = float(best['dropout'])\n",
        "best_batch = batch_list[best['batch_size']]\n",
        "best_epochs = epoch_list[best['epochs']]\n",
        "\n",
        "final_model = build_opcnn(filters=best_filters, kernel_size=best_kernel, pool_size=best_pool, dropout_rate=best_dropout)\n",
        "\n",
        "es = EarlyStopping(monitor='val_loss', patience=4, restore_best_weights=True)\n",
        "final_model.fit(X_train, y_train, validation_split=0.1, epochs=best_epochs, batch_size=best_batch, callbacks=[es], verbose=1)\n",
        "\n",
        "# evaluate on test\n",
        "y_prob = final_model.predict(X_test).ravel()\n",
        "y_pred = (y_prob >= 0.5).astype(int)\n",
        "\n",
        "print('Accuracy', accuracy_score(y_test, y_pred))\n",
        "print('Precision', precision_score(y_test, y_pred))\n",
        "print('Recall', recall_score(y_test, y_pred))\n",
        "print('F1', f1_score(y_test, y_pred))\n",
        "print(classification_report(y_test, y_pred))\n"
      ],
      "metadata": {
        "colab": {
          "base_uri": "https://localhost:8080/"
        },
        "id": "VD4lMRACB9Db",
        "outputId": "c3f89d67-fcab-4d1f-fea7-fdde4a61baee"
      },
      "execution_count": null,
      "outputs": [
        {
          "output_type": "stream",
          "name": "stdout",
          "text": [
            "Epoch 1/5\n",
            "\u001b[1m1011/1011\u001b[0m \u001b[32m━━━━━━━━━━━━━━━━━━━━\u001b[0m\u001b[37m\u001b[0m \u001b[1m17s\u001b[0m 15ms/step - accuracy: 0.9636 - loss: 0.1034 - val_accuracy: 0.9986 - val_loss: 0.0072\n",
            "Epoch 2/5\n",
            "\u001b[1m1011/1011\u001b[0m \u001b[32m━━━━━━━━━━━━━━━━━━━━\u001b[0m\u001b[37m\u001b[0m \u001b[1m14s\u001b[0m 14ms/step - accuracy: 0.9979 - loss: 0.0084 - val_accuracy: 0.9989 - val_loss: 0.0055\n",
            "Epoch 3/5\n",
            "\u001b[1m1011/1011\u001b[0m \u001b[32m━━━━━━━━━━━━━━━━━━━━\u001b[0m\u001b[37m\u001b[0m \u001b[1m22s\u001b[0m 16ms/step - accuracy: 0.9990 - loss: 0.0037 - val_accuracy: 0.9989 - val_loss: 0.0056\n",
            "Epoch 4/5\n",
            "\u001b[1m1011/1011\u001b[0m \u001b[32m━━━━━━━━━━━━━━━━━━━━\u001b[0m\u001b[37m\u001b[0m \u001b[1m17s\u001b[0m 17ms/step - accuracy: 0.9993 - loss: 0.0022 - val_accuracy: 0.9986 - val_loss: 0.0071\n",
            "Epoch 5/5\n",
            "\u001b[1m1011/1011\u001b[0m \u001b[32m━━━━━━━━━━━━━━━━━━━━\u001b[0m\u001b[37m\u001b[0m \u001b[1m21s\u001b[0m 18ms/step - accuracy: 0.9997 - loss: 0.0011 - val_accuracy: 0.9986 - val_loss: 0.0068\n",
            "\u001b[1m281/281\u001b[0m \u001b[32m━━━━━━━━━━━━━━━━━━━━\u001b[0m\u001b[37m\u001b[0m \u001b[1m1s\u001b[0m 5ms/step\n",
            "Accuracy 0.9991091314031181\n",
            "Precision 0.9995327102803738\n",
            "Recall 0.9985994397759104\n",
            "F1 0.9990658570761326\n",
            "              precision    recall  f1-score   support\n",
            "\n",
            "           0       1.00      1.00      1.00      4696\n",
            "           1       1.00      1.00      1.00      4284\n",
            "\n",
            "    accuracy                           1.00      8980\n",
            "   macro avg       1.00      1.00      1.00      8980\n",
            "weighted avg       1.00      1.00      1.00      8980\n",
            "\n"
          ]
        }
      ]
    },
    {
      "cell_type": "code",
      "source": [
        "final_model.save('opcnn_fake_model.h5')\n",
        "with open('tokenizer.json', 'w', encoding='utf-8') as f:\n",
        "    f.write(tokenizer.to_json())\n"
      ],
      "metadata": {
        "id": "i2as01BsCg1r",
        "outputId": "2cac573a-7b70-4b18-db47-2362acb2f8ff",
        "colab": {
          "base_uri": "https://localhost:8080/"
        }
      },
      "execution_count": null,
      "outputs": [
        {
          "output_type": "stream",
          "name": "stderr",
          "text": [
            "WARNING:absl:You are saving your model as an HDF5 file via `model.save()` or `keras.saving.save_model(model)`. This file format is considered legacy. We recommend using instead the native Keras format, e.g. `model.save('my_model.keras')` or `keras.saving.save_model(model, 'my_model.keras')`. \n"
          ]
        }
      ]
    }
  ]
}