{
 "cells": [
  {
   "cell_type": "markdown",
   "id": "c1fa646e-d877-4a19-841d-2fa41ab153ea",
   "metadata": {},
   "source": [
    "# Data Science Tools and Ecosystem #"
   ]
  },
  {
   "cell_type": "markdown",
   "id": "0530b714-d1a1-470c-8b45-8adc2bf8cb57",
   "metadata": {},
   "source": [
    "In this notebook, Data Science Tools and Ecosystem, is summarized.\n"
   ]
  },
  {
   "cell_type": "markdown",
   "id": "ed9a4962-ec56-4b0f-adb0-877d9e4d883d",
   "metadata": {},
   "source": [
    "Some of the languages used by data scientists are:\\\n",
    "1.Python.\\\n",
    "2.Julia.\\\n",
    "3.SQL."
   ]
  },
  {
   "cell_type": "markdown",
   "id": "3c576a71-6467-40b4-858f-e1bf399e053b",
   "metadata": {},
   "source": [
    "Some of the commonly used libraries by data scientists are:\\\n",
    "1.NumPy.\\\n",
    "2.Pandas.\\\n",
    "3.Keras\n"
   ]
  },
  {
   "cell_type": "markdown",
   "id": "20141e74-08c1-4aa6-96df-04d8dc114b5e",
   "metadata": {
    "tags": []
   },
   "source": [
    "|Data Science Tools|\n",
    "--------------------\n",
    "|Tensor Flow      |\n",
    "|Apache Spark     |\n",
    "|Matlab           |"
   ]
  },
  {
   "cell_type": "markdown",
   "id": "4da114a6-5557-4170-ab68-653a68fc042d",
   "metadata": {},
   "source": [
    "below are a few examples of evaluating arithmetic expressions in Python:"
   ]
  },
  {
   "cell_type": "code",
   "execution_count": 6,
   "id": "db0d3f28-bbdc-4991-8ad6-a5c778124a41",
   "metadata": {
    "tags": []
   },
   "outputs": [
    {
     "name": "stdout",
     "output_type": "stream",
     "text": [
      "Result: 63\n"
     ]
    }
   ],
   "source": [
    "# This is a simple arithmetic expression to multiply two integers and then add.\n",
    "a=5\n",
    "b=4\n",
    "c=7\n",
    "d=(a+b)*c\n",
    "print(\"Result:\",d)"
   ]
  },
  {
   "cell_type": "code",
   "execution_count": 7,
   "id": "b4aeca02-06b4-4dba-b796-d41c03dcc30c",
   "metadata": {
    "tags": []
   },
   "outputs": [
    {
     "name": "stdout",
     "output_type": "stream",
     "text": [
      "Mins to Hours: 3.3333333333333335\n"
     ]
    }
   ],
   "source": [
    "# This will convert 200 mins into hours by dividing by 60\n",
    "\n",
    "a=200/60\n",
    "print(\"Mins to Hours:\",a)"
   ]
  },
  {
   "cell_type": "markdown",
   "id": "bca0f5b7-fe6d-49cc-a700-b38763247142",
   "metadata": {},
   "source": [
    "**OBJECTIVES**:\\\n",
    "1.List popular languages used by data scientists.\\\n",
    "2.List of common libraries used in data science.\\\n",
    "3.List of tools used in data science.\n"
   ]
  },
  {
   "cell_type": "markdown",
   "id": "377ec04a-ed87-4158-a13c-22b8bfc23e8b",
   "metadata": {
    "tags": []
   },
   "source": [
    "# **AUTHOR**\n",
    "  Amartya Dey"
   ]
  },
  {
   "cell_type": "code",
   "execution_count": null,
   "id": "6b51fb60-58bf-47d2-8a3b-c3bdb6e9d274",
   "metadata": {},
   "outputs": [],
   "source": []
  }
 ],
 "metadata": {
  "kernelspec": {
   "display_name": "Python",
   "language": "python",
   "name": "conda-env-python-py"
  },
  "language_info": {
   "codemirror_mode": {
    "name": "ipython",
    "version": 3
   },
   "file_extension": ".py",
   "mimetype": "text/x-python",
   "name": "python",
   "nbconvert_exporter": "python",
   "pygments_lexer": "ipython3",
   "version": "3.7.12"
  }
 },
 "nbformat": 4,
 "nbformat_minor": 5
}
